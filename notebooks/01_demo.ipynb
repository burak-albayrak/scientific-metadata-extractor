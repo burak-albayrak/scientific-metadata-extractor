{
 "cells": [
  {
   "metadata": {},
   "cell_type": "markdown",
   "source": [
    "# 🎓 Scientific Article Metadata Extractor — Demo\n",
    "\n",
    "This notebook demonstrates the full workflow of our Gemini-based scientific metadata extractor:\n",
    "- Parsing academic PDFs\n",
    "- Building prompts dynamically\n",
    "- Extracting structured metadata using Gemini API\n",
    "- Compiling results into a DataFrame"
   ],
   "id": "5eb69b5b9ea42f9"
  },
  {
   "metadata": {},
   "cell_type": "code",
   "outputs": [],
   "execution_count": null,
   "source": [
    "import os\n",
    "from pathlib import Path\n",
    "from pprint import pprint\n",
    "import pandas as pd\n",
    "\n",
    "# Load .env manually\n",
    "from dotenv import load_dotenv\n",
    "load_dotenv()\n",
    "\n",
    "# Project imports\n",
    "from src.metadata_extractor import extract_metadata\n",
    "from src.batch_runner import extract_all"
   ],
   "id": "2dd7b41d4006f091"
  },
  {
   "metadata": {},
   "cell_type": "code",
   "outputs": [],
   "execution_count": null,
   "source": [
    "pdf_path = Path(\"data/ID_120_SANCHEZ_GORDON.pdf\")\n",
    "metadata = extract_metadata(pdf_path)\n",
    "pprint(metadata)"
   ],
   "id": "c69f2f51ea365c52"
  },
  {
   "metadata": {},
   "cell_type": "code",
   "outputs": [],
   "execution_count": null,
   "source": [
    "data_dir = Path(\"data\")\n",
    "df = extract_all(data_dir)\n",
    "df.head()"
   ],
   "id": "4ded04651f7466b"
  },
  {
   "metadata": {},
   "cell_type": "code",
   "outputs": [],
   "execution_count": null,
   "source": [
    "df.to_csv(\"output/demo_output.csv\", index=False)\n",
    "print(\"Saved to output/demo_output.csv\")"
   ],
   "id": "d70f21b8faad0588"
  },
  {
   "metadata": {},
   "cell_type": "markdown",
   "source": [
    "## ✅ Summary\n",
    "\n",
    "- Successfully extracted metadata from all provided PDFs.\n",
    "- Gemini returned accurate structured JSON.\n",
    "- Results were consolidated and exported to CSV.\n",
    "\n",
    "This notebook can be submitted as part of the demo deliverables."
   ],
   "id": "31056ec7bc293535"
  }
 ],
 "metadata": {
  "kernelspec": {
   "display_name": "Python 3",
   "language": "python",
   "name": "python3"
  },
  "language_info": {
   "codemirror_mode": {
    "name": "ipython",
    "version": 2
   },
   "file_extension": ".py",
   "mimetype": "text/x-python",
   "name": "python",
   "nbconvert_exporter": "python",
   "pygments_lexer": "ipython2",
   "version": "2.7.6"
  }
 },
 "nbformat": 4,
 "nbformat_minor": 5
}
