{
 "cells": [
  {
   "metadata": {},
   "cell_type": "markdown",
   "source": [
    "# 🎓 Scientific Article Metadata Extractor — Demo\n",
    "\n",
    "This notebook demonstrates the full workflow of our Gemini-based scientific metadata extractor:\n",
    "- Parsing academic PDFs\n",
    "- Dynamically building prompts\n",
    "- Extracting structured metadata using Gemini API\n",
    "- Exporting results to CSV"
   ],
   "id": "5eb69b5b9ea42f9"
  },
  {
   "metadata": {
    "ExecuteTime": {
     "end_time": "2025-05-16T10:34:08.605990Z",
     "start_time": "2025-05-16T10:34:08.502716Z"
    }
   },
   "cell_type": "code",
   "source": [
    "from pathlib import Path\n",
    "from pprint import pprint\n",
    "\n",
    "# Load .env manually\n",
    "from dotenv import load_dotenv\n",
    "load_dotenv()\n",
    "\n",
    "# Project imports\n",
    "from backend.src import extract_metadata\n",
    "from backend.src import extract_all"
   ],
   "id": "2dd7b41d4006f091",
   "outputs": [
    {
     "ename": "ImportError",
     "evalue": "cannot import name 'extract_metadata' from 'backend.src' (/Users/burrk/Desktop/Software/PycharmProjects/scientific-metadata-extractor/backend/src/__init__.py)",
     "output_type": "error",
     "traceback": [
      "\u001B[31m---------------------------------------------------------------------------\u001B[39m",
      "\u001B[31mImportError\u001B[39m                               Traceback (most recent call last)",
      "\u001B[36mCell\u001B[39m\u001B[36m \u001B[39m\u001B[32mIn[1]\u001B[39m\u001B[32m, line 9\u001B[39m\n\u001B[32m      6\u001B[39m load_dotenv()\n\u001B[32m      8\u001B[39m \u001B[38;5;66;03m# Project imports\u001B[39;00m\n\u001B[32m----> \u001B[39m\u001B[32m9\u001B[39m \u001B[38;5;28;01mfrom\u001B[39;00m\u001B[38;5;250m \u001B[39m\u001B[34;01mbackend\u001B[39;00m\u001B[34;01m.\u001B[39;00m\u001B[34;01msrc\u001B[39;00m\u001B[38;5;250m \u001B[39m\u001B[38;5;28;01mimport\u001B[39;00m extract_metadata\n\u001B[32m     10\u001B[39m \u001B[38;5;28;01mfrom\u001B[39;00m\u001B[38;5;250m \u001B[39m\u001B[34;01mbackend\u001B[39;00m\u001B[34;01m.\u001B[39;00m\u001B[34;01msrc\u001B[39;00m\u001B[38;5;250m \u001B[39m\u001B[38;5;28;01mimport\u001B[39;00m extract_all\n",
      "\u001B[31mImportError\u001B[39m: cannot import name 'extract_metadata' from 'backend.src' (/Users/burrk/Desktop/Software/PycharmProjects/scientific-metadata-extractor/backend/src/__init__.py)"
     ]
    }
   ],
   "execution_count": 1
  },
  {
   "metadata": {},
   "cell_type": "code",
   "outputs": [],
   "execution_count": null,
   "source": [
    "pdf_path = Path(\"data/ID_120_SANCHEZ_GORDON.pdf\")\n",
    "metadata = extract_metadata(pdf_path)\n",
    "pprint(metadata)"
   ],
   "id": "c69f2f51ea365c52"
  },
  {
   "metadata": {},
   "cell_type": "code",
   "outputs": [],
   "execution_count": null,
   "source": [
    "data_dir = Path(\"data\")\n",
    "df = extract_all(data_dir)\n",
    "df.head()"
   ],
   "id": "4ded04651f7466b"
  },
  {
   "metadata": {},
   "cell_type": "code",
   "outputs": [],
   "execution_count": null,
   "source": [
    "df.to_csv(\"output/demo_output.csv\", index=False)\n",
    "print(\"Saved to output/demo_output.csv\")"
   ],
   "id": "d70f21b8faad0588"
  },
  {
   "metadata": {},
   "cell_type": "markdown",
   "source": [
    "### ✅ Summary\n",
    "\n",
    "- Successfully extracted metadata from all provided academic PDFs.\n",
    "- Gemini API returned accurate structured JSON aligned with our schema.\n",
    "- The results were consolidated into a pandas DataFrame and exported to CSV.\n",
    "- This notebook proves the functional correctness of both individual and batch modes.\n",
    "\n",
    "📁 Output file: `output/demo_output.csv`"
   ],
   "id": "31056ec7bc293535"
  }
 ],
 "metadata": {
  "kernelspec": {
   "display_name": "Python 3",
   "language": "python",
   "name": "python3"
  },
  "language_info": {
   "codemirror_mode": {
    "name": "ipython",
    "version": 2
   },
   "file_extension": ".py",
   "mimetype": "text/x-python",
   "name": "python",
   "nbconvert_exporter": "python",
   "pygments_lexer": "ipython2",
   "version": "2.7.6"
  }
 },
 "nbformat": 4,
 "nbformat_minor": 5
}
